{
 "cells": [
  {
   "cell_type": "code",
   "execution_count": null,
   "id": "31d4af94",
   "metadata": {},
   "outputs": [],
   "source": [
    "print(\"hello\")\n",
    "\n",
    "first_name = 'rajan'"
   ]
  },
  {
   "cell_type": "code",
   "execution_count": null,
   "id": "c9a8af1e",
   "metadata": {},
   "outputs": [],
   "source": [
    "last_name = \"Gupta\"\n",
    "\n",
    "print(first_name+\" \"+ last_name)"
   ]
  },
  {
   "cell_type": "code",
   "execution_count": null,
   "id": "2a9b9858",
   "metadata": {},
   "outputs": [],
   "source": [
    "a , b = 0, 1\n",
    "\n",
    "while a<10:\n",
    "    print(a)\n",
    "    a,b = b, a+b"
   ]
  },
  {
   "cell_type": "code",
   "execution_count": 1,
   "id": "86117177",
   "metadata": {},
   "outputs": [
    {
     "name": "stdout",
     "output_type": "stream",
     "text": [
      "Welcome, rajan!\n"
     ]
    }
   ],
   "source": [
    "# Ensure you're not in any IPython magic mode\n",
    "name = input(\"What is your name? \")\n",
    "print(f\"Welcome, {name}!\")\n"
   ]
  },
  {
   "cell_type": "code",
   "execution_count": 1,
   "id": "793610a6",
   "metadata": {},
   "outputs": [
    {
     "name": "stdout",
     "output_type": "stream",
     "text": [
      "Hello, rajan! You are 22 years old.\n"
     ]
    }
   ],
   "source": [
    "# Get user's name\n",
    "name = input(\"What is your name? \")\n",
    "\n",
    "# Get user's age and convert to an integer\n",
    "age_str = input(\"How old are you? \")\n",
    "age = int(age_str)\n",
    "\n",
    "# Print a personalized message\n",
    "print(f\"Hello, {name}! You are {age} years old.\")\n"
   ]
  },
  {
   "cell_type": "code",
   "execution_count": null,
   "id": "55f17fcf",
   "metadata": {},
   "outputs": [],
   "source": []
  }
 ],
 "metadata": {
  "kernelspec": {
   "display_name": ".venv",
   "language": "python",
   "name": "python3"
  },
  "language_info": {
   "codemirror_mode": {
    "name": "ipython",
    "version": 3
   },
   "file_extension": ".py",
   "mimetype": "text/x-python",
   "name": "python",
   "nbconvert_exporter": "python",
   "pygments_lexer": "ipython3",
   "version": "3.12.3"
  }
 },
 "nbformat": 4,
 "nbformat_minor": 5
}
